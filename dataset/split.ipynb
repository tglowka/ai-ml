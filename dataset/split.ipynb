{
 "cells": [
  {
   "cell_type": "code",
   "execution_count": 1,
   "metadata": {},
   "outputs": [],
   "source": [
    "from os import listdir, mkdir\n",
    "from os.path import join, isdir\n",
    "import matplotlib.pyplot as plt\n",
    "import numpy\n",
    "import random\n",
    "import shutil"
   ]
  },
  {
   "cell_type": "code",
   "execution_count": 3,
   "metadata": {},
   "outputs": [],
   "source": [
    "src_path = \".\\\\UTKFace\"\n",
    "train_path = '.\\\\faces_train'\n",
    "test_path = '.\\\\faces_test'\n",
    "max_age = 80\n",
    "trainset_ratio = 0.8"
   ]
  },
  {
   "cell_type": "code",
   "execution_count": 4,
   "metadata": {},
   "outputs": [],
   "source": [
    "def purge_dataset():\n",
    "    if(isdir(train_path)):\n",
    "        shutil.rmtree(train_path)\n",
    "\n",
    "    if(isdir(test_path)):\n",
    "        shutil.rmtree(test_path)\n",
    "\n",
    "def create_dirs():\n",
    "    mkdir(train_path)\n",
    "    mkdir(test_path)\n",
    "\n",
    "\n",
    "purge_dataset()\n",
    "create_dirs()"
   ]
  },
  {
   "cell_type": "code",
   "execution_count": 5,
   "metadata": {},
   "outputs": [],
   "source": [
    "def group_file_names_by_age():\n",
    "    file_names_by_age = {}\n",
    "\n",
    "    for file_name in listdir(src_path):\n",
    "        age = int(file_name.split(\"_\")[0])\n",
    "        age = numpy.clip(age, 1, max_age)\n",
    "\n",
    "        if age in file_names_by_age:\n",
    "            file_names_by_age[age].append(file_name)\n",
    "        else:\n",
    "            file_names_by_age[age] = [file_name]\n",
    "\n",
    "    return file_names_by_age\n",
    "\n",
    "file_names_by_age = group_file_names_by_age()"
   ]
  },
  {
   "cell_type": "code",
   "execution_count": 12,
   "metadata": {},
   "outputs": [
    {
     "data": {
      "image/png": "[encoded data removed]",
      "text/plain": [
       "<Figure size 640x480 with 1 Axes>"
      ]
     },
     "metadata": {},
     "output_type": "display_data"
    }
   ],
   "source": [
    "def plot_ages_count():\n",
    "    ages_count = {}\n",
    "    for (age, file_names) in file_names_by_age.items():\n",
    "        ages_count[age] = len(file_names) \n",
    "\n",
    "    plt.bar(*zip(*ages_count.items()))\n",
    "    plt.xlabel(\"Age\")\n",
    "    plt.ylabel(\"Samples count\")\n",
    "    plt.title(\"Samples count per age (age clipped [1,80])\")\n",
    "\n",
    "plot_ages_count()"
   ]
  },
  {
   "cell_type": "code",
   "execution_count": 7,
   "metadata": {},
   "outputs": [],
   "source": [
    "def split_to_train_test_datasets():\n",
    "\n",
    "    for _, file_names in file_names_by_age.items():\n",
    "        train_count = int(len(file_names) * trainset_ratio)\n",
    "        random.shuffle(file_names)\n",
    "\n",
    "        train_file_names = file_names[:train_count]\n",
    "        test_file_names = file_names[train_count:]\n",
    "\n",
    "        copy_files(src_path, train_path, train_file_names)\n",
    "        copy_files(src_path, test_path, test_file_names)\n",
    "\n",
    "\n",
    "\n",
    "def copy_files(src_path, dest_path, file_names):\n",
    "    for file_name in file_names:\n",
    "        src = join(src_path, file_name)\n",
    "        dest = join(dest_path, file_name)\n",
    "        shutil.copy(src, dest)\n",
    "\n",
    "\n",
    "split_to_train_test_datasets()"
   ]
  },
  {
   "cell_type": "code",
   "execution_count": 11,
   "metadata": {},
   "outputs": [
    {
     "name": "stdout",
     "output_type": "stream",
     "text": [
      "Train samples:  18933\n",
      "Test samples:  4775\n",
      "Total:  23708\n"
     ]
    }
   ],
   "source": [
    "def print_counts():\n",
    "    train_samples_count = len(listdir(train_path))\n",
    "    test_samples_count = len(listdir(test_path))\n",
    "    total = train_samples_count + test_samples_count\n",
    "\n",
    "    print(\"Train samples: \", train_samples_count)\n",
    "    print(\"Test samples: \", test_samples_count)\n",
    "    print(\"Total: \", total)\n",
    "\n",
    "print_counts()"
   ]
  }
 ],
 "metadata": {
  "kernelspec": {
   "display_name": "Python 3",
   "language": "python",
   "name": "python3"
  },
  "language_info": {
   "codemirror_mode": {
    "name": "ipython",
    "version": 3
   },
   "file_extension": ".py",
   "mimetype": "text/x-python",
   "name": "python",
   "nbconvert_exporter": "python",
   "pygments_lexer": "ipython3",
   "version": "3.8.0"
  }
 },
 "nbformat": 4,
 "nbformat_minor": 2
}
